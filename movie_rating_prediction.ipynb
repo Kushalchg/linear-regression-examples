{
 "cells": [
  {
   "cell_type": "code",
   "execution_count": 161,
   "id": "12a9376e-2c3e-4234-87c5-c04bd0fb7b1a",
   "metadata": {},
   "outputs": [],
   "source": [
    "import pandas as pd\n",
    "import numpy as np\n",
    "import sklearn\n",
    "import random\n",
    "import matplotlib.pyplot as plt\n",
    "from sklearn import linear_model\n",
    "from sklearn.linear_model import LinearRegression\n",
    "from sklearn.model_selection import train_test_split\n"
   ]
  },
  {
   "cell_type": "code",
   "execution_count": 144,
   "id": "daaf45f8-c6ac-4f63-b23c-1196e94e4535",
   "metadata": {},
   "outputs": [],
   "source": [
    "df=pd.read_csv(\"final_data.csv\")\n",
    "data=df[[\"duration\",\"gross\",\"num_voted_users\",\"cast_total_facebook_likes\",\"budget\",\"imdb_score\"]]"
   ]
  },
  {
   "cell_type": "code",
   "execution_count": 145,
   "id": "0d20a20b-33e6-449a-9cef-7df14a4d3921",
   "metadata": {},
   "outputs": [
    {
     "name": "stdout",
     "output_type": "stream",
     "text": [
      "      duration        gross  num_voted_users  cast_total_facebook_likes  \\\n",
      "0        178.0  760505847.0           886204                       4834   \n",
      "1        169.0  309404152.0           471220                      48350   \n",
      "2        148.0  200074175.0           275868                      11700   \n",
      "3        164.0  448130642.0          1144337                     106759   \n",
      "4        132.0   73058679.0           212204                       1873   \n",
      "...        ...          ...              ...                        ...   \n",
      "3874     111.0      94596.0             6318                        115   \n",
      "3875      77.0     424760.0            72639                        368   \n",
      "3876      81.0    2040920.0            52055                        147   \n",
      "3877      95.0       4584.0             1338                        690   \n",
      "3878      90.0      85222.0             4285                        163   \n",
      "\n",
      "           budget  imdb_score  \n",
      "0     237000000.0         7.9  \n",
      "1     300000000.0         7.1  \n",
      "2     245000000.0         6.8  \n",
      "3     250000000.0         8.5  \n",
      "4     263700000.0         6.6  \n",
      "...           ...         ...  \n",
      "3874    1000000.0         7.4  \n",
      "3875       7000.0         7.0  \n",
      "3876       7000.0         6.9  \n",
      "3877       9000.0         6.4  \n",
      "3878       1100.0         6.6  \n",
      "\n",
      "[3879 rows x 6 columns]\n"
     ]
    }
   ],
   "source": [
    "print(data)"
   ]
  },
  {
   "cell_type": "code",
   "execution_count": 146,
   "id": "a72840d7-0323-4d2c-b61a-258f47d34a52",
   "metadata": {},
   "outputs": [
    {
     "data": {
      "text/html": [
       "<div>\n",
       "<style scoped>\n",
       "    .dataframe tbody tr th:only-of-type {\n",
       "        vertical-align: middle;\n",
       "    }\n",
       "\n",
       "    .dataframe tbody tr th {\n",
       "        vertical-align: top;\n",
       "    }\n",
       "\n",
       "    .dataframe thead th {\n",
       "        text-align: right;\n",
       "    }\n",
       "</style>\n",
       "<table border=\"1\" class=\"dataframe\">\n",
       "  <thead>\n",
       "    <tr style=\"text-align: right;\">\n",
       "      <th></th>\n",
       "      <th>duration</th>\n",
       "      <th>gross</th>\n",
       "      <th>num_voted_users</th>\n",
       "      <th>cast_total_facebook_likes</th>\n",
       "      <th>budget</th>\n",
       "      <th>imdb_score</th>\n",
       "    </tr>\n",
       "  </thead>\n",
       "  <tbody>\n",
       "    <tr>\n",
       "      <th>0</th>\n",
       "      <td>178.0</td>\n",
       "      <td>760505847.0</td>\n",
       "      <td>886204</td>\n",
       "      <td>4834</td>\n",
       "      <td>237000000.0</td>\n",
       "      <td>7.9</td>\n",
       "    </tr>\n",
       "    <tr>\n",
       "      <th>1</th>\n",
       "      <td>169.0</td>\n",
       "      <td>309404152.0</td>\n",
       "      <td>471220</td>\n",
       "      <td>48350</td>\n",
       "      <td>300000000.0</td>\n",
       "      <td>7.1</td>\n",
       "    </tr>\n",
       "    <tr>\n",
       "      <th>2</th>\n",
       "      <td>148.0</td>\n",
       "      <td>200074175.0</td>\n",
       "      <td>275868</td>\n",
       "      <td>11700</td>\n",
       "      <td>245000000.0</td>\n",
       "      <td>6.8</td>\n",
       "    </tr>\n",
       "    <tr>\n",
       "      <th>3</th>\n",
       "      <td>164.0</td>\n",
       "      <td>448130642.0</td>\n",
       "      <td>1144337</td>\n",
       "      <td>106759</td>\n",
       "      <td>250000000.0</td>\n",
       "      <td>8.5</td>\n",
       "    </tr>\n",
       "    <tr>\n",
       "      <th>4</th>\n",
       "      <td>132.0</td>\n",
       "      <td>73058679.0</td>\n",
       "      <td>212204</td>\n",
       "      <td>1873</td>\n",
       "      <td>263700000.0</td>\n",
       "      <td>6.6</td>\n",
       "    </tr>\n",
       "    <tr>\n",
       "      <th>...</th>\n",
       "      <td>...</td>\n",
       "      <td>...</td>\n",
       "      <td>...</td>\n",
       "      <td>...</td>\n",
       "      <td>...</td>\n",
       "      <td>...</td>\n",
       "    </tr>\n",
       "    <tr>\n",
       "      <th>3874</th>\n",
       "      <td>111.0</td>\n",
       "      <td>94596.0</td>\n",
       "      <td>6318</td>\n",
       "      <td>115</td>\n",
       "      <td>1000000.0</td>\n",
       "      <td>7.4</td>\n",
       "    </tr>\n",
       "    <tr>\n",
       "      <th>3875</th>\n",
       "      <td>77.0</td>\n",
       "      <td>424760.0</td>\n",
       "      <td>72639</td>\n",
       "      <td>368</td>\n",
       "      <td>7000.0</td>\n",
       "      <td>7.0</td>\n",
       "    </tr>\n",
       "    <tr>\n",
       "      <th>3876</th>\n",
       "      <td>81.0</td>\n",
       "      <td>2040920.0</td>\n",
       "      <td>52055</td>\n",
       "      <td>147</td>\n",
       "      <td>7000.0</td>\n",
       "      <td>6.9</td>\n",
       "    </tr>\n",
       "    <tr>\n",
       "      <th>3877</th>\n",
       "      <td>95.0</td>\n",
       "      <td>4584.0</td>\n",
       "      <td>1338</td>\n",
       "      <td>690</td>\n",
       "      <td>9000.0</td>\n",
       "      <td>6.4</td>\n",
       "    </tr>\n",
       "    <tr>\n",
       "      <th>3878</th>\n",
       "      <td>90.0</td>\n",
       "      <td>85222.0</td>\n",
       "      <td>4285</td>\n",
       "      <td>163</td>\n",
       "      <td>1100.0</td>\n",
       "      <td>6.6</td>\n",
       "    </tr>\n",
       "  </tbody>\n",
       "</table>\n",
       "<p>3879 rows × 6 columns</p>\n",
       "</div>"
      ],
      "text/plain": [
       "      duration        gross  num_voted_users  cast_total_facebook_likes  \\\n",
       "0        178.0  760505847.0           886204                       4834   \n",
       "1        169.0  309404152.0           471220                      48350   \n",
       "2        148.0  200074175.0           275868                      11700   \n",
       "3        164.0  448130642.0          1144337                     106759   \n",
       "4        132.0   73058679.0           212204                       1873   \n",
       "...        ...          ...              ...                        ...   \n",
       "3874     111.0      94596.0             6318                        115   \n",
       "3875      77.0     424760.0            72639                        368   \n",
       "3876      81.0    2040920.0            52055                        147   \n",
       "3877      95.0       4584.0             1338                        690   \n",
       "3878      90.0      85222.0             4285                        163   \n",
       "\n",
       "           budget  imdb_score  \n",
       "0     237000000.0         7.9  \n",
       "1     300000000.0         7.1  \n",
       "2     245000000.0         6.8  \n",
       "3     250000000.0         8.5  \n",
       "4     263700000.0         6.6  \n",
       "...           ...         ...  \n",
       "3874    1000000.0         7.4  \n",
       "3875       7000.0         7.0  \n",
       "3876       7000.0         6.9  \n",
       "3877       9000.0         6.4  \n",
       "3878       1100.0         6.6  \n",
       "\n",
       "[3879 rows x 6 columns]"
      ]
     },
     "execution_count": 146,
     "metadata": {},
     "output_type": "execute_result"
    }
   ],
   "source": [
    "data=data.dropna()\n",
    "data"
   ]
  },
  {
   "cell_type": "code",
   "execution_count": 147,
   "id": "bebdb02f-d6e0-447b-bb09-8c5512a03668",
   "metadata": {},
   "outputs": [],
   "source": [
    "data=data.assign(movieid=data.index+100)"
   ]
  },
  {
   "cell_type": "code",
   "execution_count": 148,
   "id": "68cdc1d6-78bd-4794-8013-40aeb894841e",
   "metadata": {},
   "outputs": [],
   "source": [
    "data=data.set_index('movieid')\n"
   ]
  },
  {
   "cell_type": "code",
   "execution_count": 149,
   "id": "9fcdf862-7dbd-444a-bd8e-dc6fb418a660",
   "metadata": {},
   "outputs": [
    {
     "name": "stdout",
     "output_type": "stream",
     "text": [
      "         duration        gross  num_voted_users  cast_total_facebook_likes  \\\n",
      "movieid                                                                      \n",
      "100         178.0  760505847.0           886204                       4834   \n",
      "101         169.0  309404152.0           471220                      48350   \n",
      "102         148.0  200074175.0           275868                      11700   \n",
      "103         164.0  448130642.0          1144337                     106759   \n",
      "104         132.0   73058679.0           212204                       1873   \n",
      "...           ...          ...              ...                        ...   \n",
      "3974        111.0      94596.0             6318                        115   \n",
      "3975         77.0     424760.0            72639                        368   \n",
      "3976         81.0    2040920.0            52055                        147   \n",
      "3977         95.0       4584.0             1338                        690   \n",
      "3978         90.0      85222.0             4285                        163   \n",
      "\n",
      "              budget  imdb_score  \n",
      "movieid                           \n",
      "100      237000000.0         7.9  \n",
      "101      300000000.0         7.1  \n",
      "102      245000000.0         6.8  \n",
      "103      250000000.0         8.5  \n",
      "104      263700000.0         6.6  \n",
      "...              ...         ...  \n",
      "3974       1000000.0         7.4  \n",
      "3975          7000.0         7.0  \n",
      "3976          7000.0         6.9  \n",
      "3977          9000.0         6.4  \n",
      "3978          1100.0         6.6  \n",
      "\n",
      "[3879 rows x 6 columns]\n"
     ]
    }
   ],
   "source": [
    "print(data)"
   ]
  },
  {
   "cell_type": "code",
   "execution_count": 150,
   "id": "4e9dbe17-5974-421e-a43e-85f0b7bb60d3",
   "metadata": {},
   "outputs": [
    {
     "data": {
      "text/plain": [
       "duration                     float64\n",
       "gross                        float64\n",
       "num_voted_users                int64\n",
       "cast_total_facebook_likes      int64\n",
       "budget                       float64\n",
       "imdb_score                   float64\n",
       "dtype: object"
      ]
     },
     "execution_count": 150,
     "metadata": {},
     "output_type": "execute_result"
    }
   ],
   "source": [
    "data.dtypes"
   ]
  },
  {
   "cell_type": "code",
   "execution_count": 151,
   "id": "9d345a21-0eed-49a0-a2cc-7bf64a374c3f",
   "metadata": {},
   "outputs": [],
   "source": [
    "predict=\"imdb_score\"\n",
    "linear=linear_model.LinearRegression()"
   ]
  },
  {
   "cell_type": "code",
   "execution_count": 152,
   "id": "0754ee7e-7f29-4f29-b77f-35111bca91d4",
   "metadata": {},
   "outputs": [
    {
     "data": {
      "text/plain": [
       "0.2818453308942448"
      ]
     },
     "execution_count": 152,
     "metadata": {},
     "output_type": "execute_result"
    }
   ],
   "source": [
    "x=np.array(data.drop(columns=[predict]))\n",
    "y=np.array(data[predict])\n",
    "x_train,x_test,y_train,y_test=train_test_split(x,y,test_size=0.2)\n",
    "linear.fit(x_train,y_train)\n",
    "predictions=linear.predict(x_test)\n",
    "accuracy=linear.score(x_train,y_train)\n",
    "accuracy"
   ]
  },
  {
   "cell_type": "code",
   "execution_count": 172,
   "id": "fefdfd64-0ee5-48da-bead-393494573f9b",
   "metadata": {},
   "outputs": [
    {
     "data": {
      "text/plain": [
       "[223,\n",
       " 320,\n",
       " 236,\n",
       " 197,\n",
       " 281,\n",
       " 150,\n",
       " 326,\n",
       " 267,\n",
       " 179,\n",
       " 309,\n",
       " 74,\n",
       " 306,\n",
       " 87,\n",
       " 44,\n",
       " 295,\n",
       " 278,\n",
       " 126,\n",
       " 144,\n",
       " 25,\n",
       " 11,\n",
       " 27,\n",
       " 8,\n",
       " 258,\n",
       " 131,\n",
       " 24,\n",
       " 139,\n",
       " 164,\n",
       " 165,\n",
       " 23,\n",
       " 65,\n",
       " 327,\n",
       " 81,\n",
       " 168,\n",
       " 135,\n",
       " 303,\n",
       " 181,\n",
       " 265,\n",
       " 33,\n",
       " 1,\n",
       " 154,\n",
       " 73,\n",
       " 98,\n",
       " 16,\n",
       " 57,\n",
       " 84,\n",
       " 248,\n",
       " 167,\n",
       " 290,\n",
       " 210,\n",
       " 189,\n",
       " 222,\n",
       " 192,\n",
       " 31,\n",
       " 185,\n",
       " 89,\n",
       " 203,\n",
       " 195,\n",
       " 121,\n",
       " 253,\n",
       " 85,\n",
       " 241,\n",
       " 211,\n",
       " 39,\n",
       " 30,\n",
       " 72,\n",
       " 56,\n",
       " 152,\n",
       " 212,\n",
       " 175,\n",
       " 136,\n",
       " 29,\n",
       " 208,\n",
       " 304,\n",
       " 193,\n",
       " 215,\n",
       " 231,\n",
       " 128,\n",
       " 184,\n",
       " 220,\n",
       " 314,\n",
       " 52,\n",
       " 216,\n",
       " 77,\n",
       " 224,\n",
       " 127,\n",
       " 202,\n",
       " 283,\n",
       " 178,\n",
       " 270,\n",
       " 307,\n",
       " 42,\n",
       " 191,\n",
       " 260,\n",
       " 226,\n",
       " 151,\n",
       " 217,\n",
       " 53,\n",
       " 5,\n",
       " 54,\n",
       " 308]"
      ]
     },
     "execution_count": 172,
     "metadata": {},
     "output_type": "execute_result"
    }
   ],
   "source": [
    "x=random.sample(range(0, 330), 100)\n",
    "y=random.sample(range(0, 330), 100)\n"
   ]
  },
  {
   "cell_type": "code",
   "execution_count": 173,
   "id": "ad2a3769-b522-445c-a945-385e38732cfc",
   "metadata": {},
   "outputs": [
    {
     "data": {
      "text/plain": [
       "<matplotlib.collections.PathCollection at 0x19a7c52f6c8>"
      ]
     },
     "execution_count": 173,
     "metadata": {},
     "output_type": "execute_result"
    },
    {
     "data": {
      "image/png": "[encoded data removed]",
      "text/plain": [
       "<Figure size 432x288 with 1 Axes>"
      ]
     },
     "metadata": {
      "needs_background": "light"
     },
     "output_type": "display_data"
    }
   ],
   "source": [
    "plt.scatter(x,y)"
   ]
  },
  {
   "cell_type": "code",
   "execution_count": null,
   "id": "971f7e33-626e-43eb-9aa8-fa8890f95d57",
   "metadata": {},
   "outputs": [],
   "source": []
  }
 ],
 "metadata": {
  "kernelspec": {
   "display_name": "Python 3.7.4 64-bit",
   "language": "python",
   "name": "python37464bit540603bc58d4488ab3043710100f0937"
  },
  "language_info": {
   "codemirror_mode": {
    "name": "ipython",
    "version": 3
   },
   "file_extension": ".py",
   "mimetype": "text/x-python",
   "name": "python",
   "nbconvert_exporter": "python",
   "pygments_lexer": "ipython3",
   "version": "3.7.4"
  }
 },
 "nbformat": 4,
 "nbformat_minor": 5
}
